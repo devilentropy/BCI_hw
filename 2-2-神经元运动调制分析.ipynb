{
 "cells": [
  {
   "cell_type": "code",
   "execution_count": 29,
   "id": "47a96116",
   "metadata": {},
   "outputs": [],
   "source": [
    "import scipy.io\n",
    "import mne\n",
    "import numpy as np\n",
    "import matplotlib.pyplot as plt\n",
    "\n",
    "from scipy import signal\n",
    "from scipy.signal import spectrogram\n",
    "from scipy.stats import entropy, skew\n",
    "from scipy.linalg import toeplitz, cholesky\n",
    "from sklearn.linear_model import LinearRegression\n",
    "from sklearn.metrics import r2_score"
   ]
  },
  {
   "cell_type": "code",
   "execution_count": 86,
   "id": "258dfe50",
   "metadata": {},
   "outputs": [],
   "source": [
    "# 1. 导入MAT文件\n",
    "mat_data = scipy.io.loadmat('data/indy_20161005_06.mat')\n",
    "# 1. 导入MAT文件\n",
    "mat_data1 = scipy.io.loadmat('data/indy_20160407_02.mat')"
   ]
  },
  {
   "cell_type": "code",
   "execution_count": 4,
   "id": "2c548169",
   "metadata": {},
   "outputs": [
    {
     "name": "stdout",
     "output_type": "stream",
     "text": [
      "<class 'dict'>\n",
      "__header__，<class 'bytes'>\n",
      "__version__，<class 'str'>\n",
      "__globals__，<class 'list'>\n",
      "chan_names，<class 'numpy.ndarray'>\n",
      "cursor_pos，<class 'numpy.ndarray'>\n",
      "finger_pos，<class 'numpy.ndarray'>\n",
      "spikes，<class 'numpy.ndarray'>\n",
      "t，<class 'numpy.ndarray'>\n",
      "target_pos，<class 'numpy.ndarray'>\n",
      "wf，<class 'numpy.ndarray'>\n"
     ]
    }
   ],
   "source": [
    "print(type(mat_data))\n",
    "for k,v in mat_data.items():\n",
    "    print(f\"{k}，{type(v)}\")"
   ]
  },
  {
   "cell_type": "code",
   "execution_count": 87,
   "id": "e30868de",
   "metadata": {},
   "outputs": [],
   "source": [
    "# 提取数据\n",
    "chan_names = mat_data['chan_names'].flatten()  #通道数96\n",
    "chan_names=np.array([k[0] for k in chan_names])\n",
    "cursor_pos = mat_data['cursor_pos']  #光标的位置\n",
    "finger_pos = mat_data['finger_pos']  #指尖\n",
    "spikes = mat_data['spikes']          #神经数据：unsorted/sorted\n",
    "t = mat_data['t'].flatten()          #采样时间戳\n",
    "target_pos = mat_data['target_pos']  #目标出现的xy\n",
    "wf = mat_data['wf']                  #每个通道神经元发放波形\n",
    "\n",
    "chan_names1 = mat_data1['chan_names'].flatten()  #通道数96\n",
    "chan_names1=np.array([k[0] for k in chan_names1])\n",
    "cursor_pos1 = mat_data1['cursor_pos']  #光标的位置\n",
    "finger_pos1 = mat_data1['finger_pos']  #指尖\n",
    "spikes1 = mat_data1['spikes']          #神经数据：unsorted/sorted\n",
    "t1 = mat_data1['t'].flatten()          #采样时间戳\n",
    "target_pos1 = mat_data1['target_pos']  #目标出现的xy\n",
    "wf1 = mat_data1['wf']                  #每个通道神经元发放波形"
   ]
  },
  {
   "cell_type": "code",
   "execution_count": 6,
   "id": "a9f3619c",
   "metadata": {},
   "outputs": [
    {
     "name": "stdout",
     "output_type": "stream",
     "text": [
      "(96,)\n",
      "(93501, 2)\n",
      "(93501, 3)\n",
      "(96, 5)\n",
      "(93501,)\n",
      "(93501, 2)\n",
      "(96, 5)\n"
     ]
    }
   ],
   "source": [
    "print(chan_names.shape)\n",
    "print(cursor_pos.shape)\n",
    "print(finger_pos.shape)\n",
    "print(spikes.shape)\n",
    "print(t.shape)\n",
    "print(target_pos.shape)\n",
    "print(wf.shape)"
   ]
  },
  {
   "cell_type": "code",
   "execution_count": 53,
   "id": "873a9466",
   "metadata": {},
   "outputs": [
    {
     "name": "stdout",
     "output_type": "stream",
     "text": [
      "[0.54634146 0.33658537 0.10243902 0.01463415 0.         0.\n",
      " 0.         0.         0.         0.         0.        ]\n"
     ]
    }
   ],
   "source": [
    "m,n=spikes.shape\n",
    "result=[]\n",
    "number=np.zeros(11)\n",
    "for row in range(m):\n",
    "    for col in range(n):\n",
    "        spike_times=spikes[row,col][:,:].flatten()\n",
    "        if len(spike_times)>100:\n",
    "            hist, bins = np.histogram(spike_times, bins=np.arange(min(spike_times),max(spike_times), 5))\n",
    "\n",
    "            # 这里是目标和光标位置的xy差距的平均值，对应于\n",
    "            a1=abs(target_pos[:,0]-cursor_pos[:,0])\n",
    "            a2=abs(target_pos[:,1]-cursor_pos[:,1])\n",
    "            averages1 = []\n",
    "            averages2 = []\n",
    "            len_tt=int(len(a1)/(len(hist)-1))\n",
    "            for i in range(0, len(a1), len_tt):\n",
    "                avg1 = np.mean(a1[i:i+len_tt])\n",
    "                avg2 = np.mean(a2[i:i+len_tt])\n",
    "                averages1.append(avg1)\n",
    "                averages2.append(avg2)\n",
    "\n",
    "            # 使用numpy.vstack函数在行方向上连接两个自变量\n",
    "            X_combined = np.vstack((averages1, averages2)).T\n",
    "            model = LinearRegression()\n",
    "\n",
    "            # 拟合模型\n",
    "            model.fit(X_combined,hist)\n",
    "            y_pred = model.predict(X_combined)\n",
    "            r_squared = r2_score(hist, y_pred)\n",
    "            result.append(r_squared)\n",
    "            if r_squared>0.5:\n",
    "                number[10]+=1\n",
    "            else:\n",
    "#                 print(r_squared,r_squared/0.05)\n",
    "                number[int(r_squared/0.05)]+=1\n",
    "number=number/sum(number)\n",
    "print(number)"
   ]
  },
  {
   "cell_type": "code",
   "execution_count": 88,
   "id": "765a3596",
   "metadata": {},
   "outputs": [
    {
     "name": "stdout",
     "output_type": "stream",
     "text": [
      "[0.87581699 0.09477124 0.01960784 0.00980392 0.         0.\n",
      " 0.         0.         0.         0.         0.        ]\n"
     ]
    }
   ],
   "source": [
    "m,n=spikes1.shape\n",
    "result=[]\n",
    "number2=np.zeros(11)\n",
    "for row in range(m):\n",
    "    for col in range(n):\n",
    "        spike_times=spikes1[row,col][:,:].flatten()\n",
    "        if len(spike_times)>100:\n",
    "            hist, bins = np.histogram(spike_times, bins=np.arange(min(spike_times),max(spike_times), 5))\n",
    "\n",
    "            # 这里是目标和光标位置的xy差距的平均值，对应于\n",
    "            a1=abs(target_pos1[:,0]-cursor_pos1[:,0])\n",
    "            a2=abs(target_pos1[:,1]-cursor_pos1[:,1])\n",
    "            averages1 = []\n",
    "            averages2 = []\n",
    "            len_tt=int(len(a1)/(len(hist)-1))\n",
    "            for i in range(0, len(a1), len_tt):\n",
    "                avg1 = np.mean(a1[i:i+len_tt])\n",
    "                avg2 = np.mean(a2[i:i+len_tt])\n",
    "                averages1.append(avg1)\n",
    "                averages2.append(avg2)\n",
    "\n",
    "            # 使用numpy.vstack函数在行方向上连接两个自变量\n",
    "            X_combined = np.vstack((averages1, averages2)).T\n",
    "            model = LinearRegression()\n",
    "\n",
    "            # 拟合模型\n",
    "            model.fit(X_combined,hist)\n",
    "            y_pred = model.predict(X_combined)\n",
    "            r_squared = r2_score(hist, y_pred)\n",
    "            result.append(r_squared)\n",
    "            if r_squared>0.5:\n",
    "                number[10]+=1\n",
    "            else:\n",
    "#                 print(r_squared,r_squared/0.05)\n",
    "                number2[int(r_squared/0.05)]+=1\n",
    "number2=number2/sum(number2)\n",
    "print(number2)"
   ]
  },
  {
   "cell_type": "code",
   "execution_count": 92,
   "id": "2a2385dc",
   "metadata": {},
   "outputs": [
    {
     "name": "stdout",
     "output_type": "stream",
     "text": [
      "[0.025 0.075 0.125 0.175 0.225 0.275 0.325 0.375 0.425 0.475 0.525]\n"
     ]
    },
    {
     "data": {
      "image/png": "[encoded data removed]",
      "text/plain": [
       "<Figure size 640x480 with 1 Axes>"
      ]
     },
     "metadata": {},
     "output_type": "display_data"
    }
   ],
   "source": [
    "# 指定区间边界\n",
    "bins =np.arange(0.025,0.575,0.05)\n",
    "print(bins)\n",
    "\n",
    "# 创建直方图\n",
    "\n",
    "plt.bar(bins-0.005,number2,width=0.01,edgecolor='g', alpha=0.5, label='indy_20160407_02')\n",
    "plt.bar(bins+0.005,number,width=0.01,edgecolor='k', alpha=0.5, label='indy_20161005_06')\n",
    "\n",
    "# 添加标签和标题\n",
    "plt.xlabel('R^2')\n",
    "plt.ylabel('percentage')\n",
    "# plt.title('直方图示例')\n",
    "plt.legend()\n",
    "\n",
    "# 显示图形\n",
    "plt.show()"
   ]
  },
  {
   "cell_type": "code",
   "execution_count": null,
   "id": "f1eac1bf",
   "metadata": {},
   "outputs": [],
   "source": []
  }
 ],
 "metadata": {
  "kernelspec": {
   "display_name": "Python 3 (ipykernel)",
   "language": "python",
   "name": "python3"
  },
  "language_info": {
   "codemirror_mode": {
    "name": "ipython",
    "version": 3
   },
   "file_extension": ".py",
   "mimetype": "text/x-python",
   "name": "python",
   "nbconvert_exporter": "python",
   "pygments_lexer": "ipython3",
   "version": "3.9.0"
  }
 },
 "nbformat": 4,
 "nbformat_minor": 5
}
